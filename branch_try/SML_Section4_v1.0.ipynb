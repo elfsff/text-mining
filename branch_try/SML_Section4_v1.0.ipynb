{
 "cells": [
  {
   "cell_type": "markdown",
   "metadata": {},
   "source": [
    "![ieseg logo](./img/ieseg.png)\n",
    "\n",
    "#### MBD 2017-2018\n",
    "# Statistical & Machine Learning Approaches for Marketing\n",
    "\n",
    "## Section 4: Tree-Based Methods"
   ]
  },
  {
   "cell_type": "markdown",
   "metadata": {},
   "source": [
    "**1. Import all required libraries and datasets**"
   ]
  },
  {
   "cell_type": "code",
   "execution_count": 2,
   "metadata": {},
   "outputs": [
    {
     "ename": "NameError",
     "evalue": "name 'library' is not defined",
     "output_type": "error",
     "traceback": [
      "\u001b[1;31m---------------------------------------------------------------------------\u001b[0m",
      "\u001b[1;31mNameError\u001b[0m                                 Traceback (most recent call last)",
      "\u001b[1;32m<ipython-input-2-00d4612158a9>\u001b[0m in \u001b[0;36m<module>\u001b[1;34m()\u001b[0m\n\u001b[0;32m      3\u001b[0m \u001b[1;33m\u001b[0m\u001b[0m\n\u001b[0;32m      4\u001b[0m \u001b[1;31m# Import libraries\u001b[0m\u001b[1;33m\u001b[0m\u001b[1;33m\u001b[0m\u001b[0m\n\u001b[1;32m----> 5\u001b[1;33m \u001b[0mlibrary\u001b[0m\u001b[1;33m(\u001b[0m\u001b[0mdata\u001b[0m\u001b[1;33m.\u001b[0m\u001b[0mtable\u001b[0m\u001b[1;33m)\u001b[0m  \u001b[1;31m# Data manipulate\u001b[0m\u001b[1;33m\u001b[0m\u001b[0m\n\u001b[0m\u001b[0;32m      6\u001b[0m \u001b[0mlibrary\u001b[0m\u001b[1;33m(\u001b[0m\u001b[0mmlr\u001b[0m\u001b[1;33m)\u001b[0m         \u001b[1;31m# ML toolkit\u001b[0m\u001b[1;33m\u001b[0m\u001b[0m\n\u001b[0;32m      7\u001b[0m \u001b[0mlibrary\u001b[0m\u001b[1;33m(\u001b[0m\u001b[0mcaret\u001b[0m\u001b[1;33m)\u001b[0m       \u001b[1;31m# ML toolkit\u001b[0m\u001b[1;33m\u001b[0m\u001b[0m\n",
      "\u001b[1;31mNameError\u001b[0m: name 'library' is not defined"
     ]
    }
   ],
   "source": [
    "# Set environment params\n",
    "Sys.setenv(LANG='en')  # English\n",
    "\n",
    "# Import libraries\n",
    "library(data.table)  # Data manipulate\n",
    "library(mlr)         # ML toolkit\n",
    "library(caret)       # ML toolkit\n",
    "library(ggplot2)     # Visualization\n",
    "library(pROC)        # AUC, ROC\n",
    "library(tree)        # CART model\n",
    "\n",
    "# Import data\n",
    "library(ISLR)      # Data from the course book\n",
    "library(MASS)      # Boston housing dataset\n",
    "library(datasets)  # US crime dataset\n",
    "\n",
    "# Resize plot\n",
    "library(repr)  # String and binary representations\n",
    "#options(repr.plot.width=4, repr.plot.height=4)"
   ]
  },
  {
   "cell_type": "markdown",
   "metadata": {},
   "source": [
    "**2. First ideas about Decision Tree**"
   ]
  },
  {
   "cell_type": "code",
   "execution_count": 572,
   "metadata": {},
   "outputs": [
    {
     "name": "stdout",
     "output_type": "stream",
     "text": [
      "'data.frame':\t395 obs. of  3 variables:\n",
      " $ G1  : int  5 5 7 15 6 15 12 6 16 14 ...\n",
      " $ G2  : int  6 5 8 14 10 15 12 5 18 15 ...\n",
      " $ pass: Factor w/ 2 levels \"N\",\"Y\": 1 1 2 2 2 2 2 1 2 2 ...\n"
     ]
    }
   ],
   "source": [
    "# Student performance dataset\n",
    "# G1, G2, G3: first period, second period and final grade (numeric: from 0 to 20)\n",
    "student <- read.csv('./data/student/student-mat.csv', sep=';')\n",
    "student$pass <- as.factor(ifelse(student$G3 >= 10, 'Y', 'N'))\n",
    "str(student[, c('G1', 'G2', 'pass')])"
   ]
  },
  {
   "cell_type": "code",
   "execution_count": 554,
   "metadata": {
    "collapsed": true
   },
   "outputs": [],
   "source": [
    "# Build simple decision tree model from Titanic dataset\n",
    "md_tree <- tree(pass ~ G1 + G2, data=student)"
   ]
  },
  {
   "cell_type": "code",
   "execution_count": 555,
   "metadata": {},
   "outputs": [
    {
     "data": {
      "image/png": "[encoded data removed]",
      "text/plain": [
       "plot without title"
      ]
     },
     "metadata": {},
     "output_type": "display_data"
    }
   ],
   "source": [
    "# Plot the tree\n",
    "options(repr.plot.width=10, repr.plot.height=5)\n",
    "par(cex.lab=0.8, cex.axis=0.8, cex.main=0.8, cex.sub=0.8)\n",
    "plot(md_tree)\n",
    "text(md_tree, pretty=1)"
   ]
  },
  {
   "cell_type": "code",
   "execution_count": 571,
   "metadata": {},
   "outputs": [
    {
     "data": {
      "image/png": "[encoded data removed]",
      "text/plain": [
       "plot without title"
      ]
     },
     "metadata": {},
     "output_type": "display_data"
    }
   ],
   "source": [
    "# Plot the partition of tree\n",
    "options(repr.plot.width=4, repr.plot.height=4)\n",
    "partition.tree(md_tree)\n",
    "points(student$G1, student$G2,\n",
    "       pch=c('x', '+')[as.numeric(student$pass)],\n",
    "       col=c('red', 'green')[as.numeric(student$pass)],\n",
    "       cex=0.9)"
   ]
  },
  {
   "cell_type": "code",
   "execution_count": 475,
   "metadata": {},
   "outputs": [
    {
     "name": "stdout",
     "output_type": "stream",
     "text": [
      "node), split, n, deviance, yval, (yprob)\n",
      "      * denotes terminal node\n",
      "\n",
      " 1) root 395 500.500 Y ( 0.32911 0.67089 )  \n",
      "   2) G2 < 9.5 146 130.500 N ( 0.83562 0.16438 )  \n",
      "     4) G2 < 7.5 64   0.000 N ( 1.00000 0.00000 ) *\n",
      "     5) G2 > 7.5 82  99.140 N ( 0.70732 0.29268 )  \n",
      "      10) G1 < 7.5 16   7.481 N ( 0.93750 0.06250 ) *\n",
      "      11) G1 > 7.5 66  85.340 N ( 0.65152 0.34848 ) *\n",
      "   3) G2 > 9.5 249  70.750 Y ( 0.03213 0.96787 )  \n",
      "     6) G1 < 10.5 54  45.300 Y ( 0.14815 0.85185 ) *\n",
      "     7) G1 > 10.5 195   0.000 Y ( 0.00000 1.00000 ) *\n"
     ]
    }
   ],
   "source": [
    "# Print out the tree details\n",
    "print(md_tree)"
   ]
  },
  {
   "cell_type": "markdown",
   "metadata": {},
   "source": [
    "**3. Regression Trees**"
   ]
  },
  {
   "cell_type": "code",
   "execution_count": 573,
   "metadata": {},
   "outputs": [
    {
     "name": "stdout",
     "output_type": "stream",
     "text": [
      "'data.frame':\t322 obs. of  7 variables:\n",
      " $ Salary : num  NA 475 480 500 91.5 750 70 100 75 1100 ...\n",
      " $ Years  : int  1 14 3 11 2 11 2 3 2 13 ...\n",
      " $ RBI    : int  29 38 72 78 42 51 8 24 32 66 ...\n",
      " $ Hits   : int  66 81 130 141 87 169 37 73 81 92 ...\n",
      " $ PutOuts: int  446 632 880 200 805 282 76 121 143 0 ...\n",
      " $ Walks  : int  14 39 76 37 30 35 21 7 8 65 ...\n",
      " $ Runs   : int  30 24 66 65 39 74 23 24 26 49 ...\n"
     ]
    }
   ],
   "source": [
    "# Inport the Baseball Players' data in 1987\n",
    "# Source: https://cran.r-project.org/web/packages/ISLR/ISLR.pdf\n",
    "ht <- ISLR::Hitters\n",
    "str(ht[, c('Salary', 'Years', 'RBI', 'Hits', 'PutOuts', 'Walks', 'Runs')])"
   ]
  },
  {
   "cell_type": "code",
   "execution_count": 514,
   "metadata": {},
   "outputs": [
    {
     "data": {
      "text/plain": [
       "   Min. 1st Qu.  Median    Mean 3rd Qu.    Max.    NA's \n",
       "   67.5   190.0   425.0   535.9   750.0  2460.0      59 "
      ]
     },
     "metadata": {},
     "output_type": "display_data"
    },
    {
     "data": {
      "image/png": "[encoded data removed]",
      "text/plain": [
       "Plot with title \"Baseball Players' Salary Histogram (1987)\""
      ]
     },
     "metadata": {},
     "output_type": "display_data"
    }
   ],
   "source": [
    "# Observe the annual salary value (in thousands of dollars)\n",
    "summary(ht$Salary)\n",
    "\n",
    "options(repr.plot.width=4, repr.plot.height=4)\n",
    "par(cex.lab=0.8, cex.axis=0.8, cex.main=0.8, cex.sub=0.8)\n",
    "hist(ht$Salary,\n",
    "     main=\"Baseball Players' Salary Histogram (1987)\",\n",
    "     xlab='Salary (thousands of dollars)')"
   ]
  },
  {
   "cell_type": "code",
   "execution_count": 515,
   "metadata": {},
   "outputs": [
    {
     "data": {
      "text/plain": [
       "   Min. 1st Qu.  Median    Mean 3rd Qu.    Max. \n",
       "  4.212   5.247   6.052   5.927   6.620   7.808 "
      ]
     },
     "metadata": {},
     "output_type": "display_data"
    },
    {
     "data": {
      "image/png": "[encoded data removed]",
      "text/plain": [
       "Plot with title \"Baseball Players' Salary Histogram (1987)\""
      ]
     },
     "metadata": {},
     "output_type": "display_data"
    }
   ],
   "source": [
    "# Drop obs. with Salary == NA\n",
    "ht <- ht[!is.na(ht$Salary), ]\n",
    "\n",
    "# Log-transform Salary\n",
    "ht$Salary <- log(ht$Salary)\n",
    "\n",
    "# Print out to check\n",
    "summary(ht$Salary)\n",
    "\n",
    "# Plot the transformed Salary\n",
    "options(repr.plot.width=4, repr.plot.height=4)\n",
    "par(cex.lab=0.8, cex.axis=0.8, cex.main=0.8, cex.sub=0.8)\n",
    "hist(ht$Salary,\n",
    "     main=\"Baseball Players' Salary Histogram (1987)\",\n",
    "     xlab='Log(Salary)')"
   ]
  },
  {
   "cell_type": "code",
   "execution_count": 520,
   "metadata": {
    "collapsed": true
   },
   "outputs": [],
   "source": [
    "# Train-test split\n",
    "set.seed(1)  # High variance\n",
    "train_idx <- sample(1:nrow(ht), 132)\n",
    "train_ht <- ht[train_idx, ]  # 132 obs.\n",
    "test_ht <- ht[-train_idx, ]  # 131 obs."
   ]
  },
  {
   "cell_type": "code",
   "execution_count": 578,
   "metadata": {},
   "outputs": [
    {
     "data": {
      "image/png": "[encoded data removed]",
      "text/plain": [
       "plot without title"
      ]
     },
     "metadata": {},
     "output_type": "display_data"
    }
   ],
   "source": [
    "# Fit full regression tree (top-down greedy splitting)\n",
    "md_regtree <- tree(Salary ~ Years + RBI + Hits + PutOuts + Walks + Runs, data=train_ht)\n",
    "\n",
    "# Plot the regression tree\n",
    "options(repr.plot.width=15, repr.plot.height=6)\n",
    "plot(md_regtree, type='uniform')\n",
    "text(md_regtree, pretty=0)"
   ]
  },
  {
   "cell_type": "code",
   "execution_count": 522,
   "metadata": {},
   "outputs": [
    {
     "data": {
      "text/plain": [
       "node), split, n, deviance, yval\n",
       "      * denotes terminal node\n",
       "\n",
       " 1) root 132 102.4000 5.948  \n",
       "   2) Years < 4.5 43  29.2000 5.236  \n",
       "     4) Walks < 63.5 38  20.3500 5.082  \n",
       "       8) Walks < 12.5 5   7.7230 5.824 *\n",
       "       9) Walks > 12.5 33   9.4580 4.970  \n",
       "        18) Years < 3.5 21   2.4850 4.697  \n",
       "          36) RBI < 42.5 14   0.7316 4.514 *\n",
       "          37) RBI > 42.5 7   0.3552 5.062 *\n",
       "        19) Years > 3.5 12   2.6630 5.448 *\n",
       "     5) Walks > 63.5 5   1.0850 6.408 *\n",
       "   3) Years > 4.5 89  40.9000 6.292  \n",
       "     6) Hits < 103.5 43  11.5500 5.854  \n",
       "      12) Hits < 72.5 20   3.5450 5.604  \n",
       "        24) Years < 8.5 11   1.0190 5.391 *\n",
       "        25) Years > 8.5 9   1.4080 5.866 *\n",
       "      13) Hits > 72.5 23   5.6610 6.072  \n",
       "        26) Hits < 101.5 18   2.3430 6.201 *\n",
       "        27) Hits > 101.5 5   1.9510 5.609 *\n",
       "     7) Hits > 103.5 46  13.4300 6.701  \n",
       "      14) Walks < 74 38   8.4540 6.576  \n",
       "        28) RBI < 80 30   6.5560 6.479  \n",
       "          56) Runs < 90 24   1.8390 6.593 *\n",
       "          57) Runs > 90 6   3.1520 6.022 *\n",
       "        29) RBI > 80 8   0.5526 6.940 *\n",
       "      15) Walks > 74 8   1.5520 7.295 *"
      ]
     },
     "metadata": {},
     "output_type": "display_data"
    }
   ],
   "source": [
    "# Print out the tree details\n",
    "md_regtree"
   ]
  },
  {
   "cell_type": "code",
   "execution_count": 527,
   "metadata": {},
   "outputs": [
    {
     "data": {
      "text/html": [
       "102.408079002486"
      ],
      "text/latex": [
       "102.408079002486"
      ],
      "text/markdown": [
       "102.408079002486"
      ],
      "text/plain": [
       "[1] 102.4081"
      ]
     },
     "metadata": {},
     "output_type": "display_data"
    },
    {
     "data": {
      "text/html": [
       "29.2028826750532"
      ],
      "text/latex": [
       "29.2028826750532"
      ],
      "text/markdown": [
       "29.2028826750532"
      ],
      "text/plain": [
       "[1] 29.20288"
      ]
     },
     "metadata": {},
     "output_type": "display_data"
    },
    {
     "data": {
      "text/html": [
       "40.898537089139"
      ],
      "text/latex": [
       "40.898537089139"
      ],
      "text/markdown": [
       "40.898537089139"
      ],
      "text/plain": [
       "[1] 40.89854"
      ]
     },
     "metadata": {},
     "output_type": "display_data"
    }
   ],
   "source": [
    "# RSS at the root (or 1st node)\n",
    "rss_node_1 <- sum((train_ht$Salary - mean(train_ht$Salary)) ^ 2)\n",
    "\n",
    "# RSS at the first left branch (or 2nd node)\n",
    "R1 <- train_ht[train_ht$Years < 4.5, ]\n",
    "rss_node_2 <- sum((R1$Salary - mean(R1$Salary)) ^ 2)\n",
    "\n",
    "# RSS at the first right branch (or 3rd node)\n",
    "R2 <- train_ht[train_ht$Years >= 4.5, ]\n",
    "rss_node_3 <- sum((R2$Salary - mean(R2$Salary)) ^ 2)\n",
    "\n",
    "# Compare RSS\n",
    "rss_node_1  # Max RSS, root (no split)\n",
    "rss_node_2  # First split, left branch\n",
    "rss_node_3  # Second split, right branch"
   ]
  },
  {
   "cell_type": "code",
   "execution_count": 581,
   "metadata": {},
   "outputs": [
    {
     "data": {
      "text/plain": [
       "$size\n",
       " [1] 13 12 11 10  8  7  6  4  3  2  1\n",
       "\n",
       "$dev\n",
       " [1]  68.00842  67.49624  65.03339  64.81482  64.47011  61.60375  63.36093\n",
       " [8]  62.52036  66.37425  77.34480 107.27308\n",
       "\n",
       "$k\n",
       " [1]      -Inf  1.117601  1.367402  1.398098  1.454624  2.339659  3.420623\n",
       " [8]  3.737675  7.771405 15.926986 32.306659\n",
       "\n",
       "$method\n",
       "[1] \"deviance\"\n",
       "\n",
       "attr(,\"class\")\n",
       "[1] \"prune\"         \"tree.sequence\""
      ]
     },
     "metadata": {},
     "output_type": "display_data"
    }
   ],
   "source": [
    "# Prune the Regression Tree\n",
    "set.seed(1)\n",
    "cv_regtree <- cv.tree(md_regtree)\n",
    "cv_regtree"
   ]
  },
  {
   "cell_type": "code",
   "execution_count": 600,
   "metadata": {},
   "outputs": [
    {
     "data": {
      "image/png": "[encoded data removed]",
      "text/plain": [
       "plot without title"
      ]
     },
     "metadata": {},
     "output_type": "display_data"
    }
   ],
   "source": [
    "# Show the Decision Tree\n",
    "options(repr.plot.width=8, repr.plot.height=4)\n",
    "par(mfrow=c(1, 2))\n",
    "plot(cv_regtree$size, cv_regtree$dev, type='b')  # Tree size, number of nodes\n",
    "abline(v=7, col='red')  # Best tree size\n",
    "plot(cv_regtree$k, cv_regtree$dev, type='b')  # Cost-complexity param, alpha"
   ]
  },
  {
   "cell_type": "code",
   "execution_count": 598,
   "metadata": {},
   "outputs": [
    {
     "data": {
      "image/png": "[encoded data removed]",
      "text/plain": [
       "plot without title"
      ]
     },
     "metadata": {},
     "output_type": "display_data"
    }
   ],
   "source": [
    "# Prune the tree to 7 nodes\n",
    "prune_regtree <- prune.tree(md_regtree, best=7)\n",
    "\n",
    "# Show the tree\n",
    "options(repr.plot.width=15, repr.plot.height=6)\n",
    "plot(prune_regtree, type='uniform')\n",
    "text(prune_regtree, pretty=0)"
   ]
  },
  {
   "cell_type": "code",
   "execution_count": 599,
   "metadata": {},
   "outputs": [
    {
     "data": {
      "text/html": [
       "0.664125048813261"
      ],
      "text/latex": [
       "0.664125048813261"
      ],
      "text/markdown": [
       "0.664125048813261"
      ],
      "text/plain": [
       "[1] 0.664125"
      ]
     },
     "metadata": {},
     "output_type": "display_data"
    },
    {
     "data": {
      "text/html": [
       "0.604575290683057"
      ],
      "text/latex": [
       "0.604575290683057"
      ],
      "text/markdown": [
       "0.604575290683057"
      ],
      "text/plain": [
       "[1] 0.6045753"
      ]
     },
     "metadata": {},
     "output_type": "display_data"
    }
   ],
   "source": [
    "# Compare the performance of full Regression Tree and pruned Regression Tree\n",
    "\n",
    "# RSS full Regression Tree\n",
    "pred_full_regtree <- predict(md_regtree, newdata=test_ht)\n",
    "mse_full_regtree <- mean((pred_full_regtree - mean(test_ht$Salary)) ^ 2)\n",
    "mse_full_regtree\n",
    "\n",
    "# RSS pruned Regression Tree\n",
    "pred_pruned_regtree <- predict(prune_regtree, newdata=test_ht)\n",
    "mse_pruned_regtree <- mean((pred_pruned_regtree - mean(test_ht$Salary)) ^ 2)\n",
    "mse_pruned_regtree"
   ]
  },
  {
   "cell_type": "markdown",
   "metadata": {},
   "source": [
    "**4. Classification Tree**"
   ]
  },
  {
   "cell_type": "markdown",
   "metadata": {},
   "source": [
    "**4.1. The Iris dataset**\n",
    "![ieseg logo](./img/iris-machinelearning.png)\n",
    "\n",
    "Source: https://www.datacamp.com/community/tutorials/machine-learning-in-r"
   ]
  },
  {
   "cell_type": "code",
   "execution_count": 532,
   "metadata": {},
   "outputs": [
    {
     "name": "stdout",
     "output_type": "stream",
     "text": [
      "'data.frame':\t150 obs. of  5 variables:\n",
      " $ Sepal.Length: num  5.1 4.9 4.7 4.6 5 5.4 4.6 5 4.4 4.9 ...\n",
      " $ Sepal.Width : num  3.5 3 3.2 3.1 3.6 3.9 3.4 3.4 2.9 3.1 ...\n",
      " $ Petal.Length: num  1.4 1.4 1.3 1.5 1.4 1.7 1.4 1.5 1.4 1.5 ...\n",
      " $ Petal.Width : num  0.2 0.2 0.2 0.2 0.2 0.4 0.3 0.2 0.2 0.1 ...\n",
      " $ Species     : Factor w/ 3 levels \"setosa\",\"versicolor\",..: 1 1 1 1 1 1 1 1 1 1 ...\n"
     ]
    }
   ],
   "source": [
    "# The Iris dataset\n",
    "ir <- datasets::iris\n",
    "str(ir)"
   ]
  },
  {
   "cell_type": "code",
   "execution_count": 533,
   "metadata": {},
   "outputs": [
    {
     "data": {
      "text/plain": [
       "\n",
       "    setosa versicolor  virginica \n",
       " 0.3333333  0.3333333  0.3333333 "
      ]
     },
     "metadata": {},
     "output_type": "display_data"
    }
   ],
   "source": [
    "# Check the response\n",
    "table(ir$Species) / nrow(ir)"
   ]
  },
  {
   "cell_type": "code",
   "execution_count": 535,
   "metadata": {},
   "outputs": [
    {
     "data": {
      "text/plain": [
       "\n",
       "Classification tree:\n",
       "tree(formula = Species ~ ., data = ir)\n",
       "Variables actually used in tree construction:\n",
       "[1] \"Petal.Length\" \"Petal.Width\"  \"Sepal.Length\"\n",
       "Number of terminal nodes:  6 \n",
       "Residual mean deviance:  0.1253 = 18.05 / 144 \n",
       "Misclassification error rate: 0.02667 = 4 / 150 "
      ]
     },
     "metadata": {},
     "output_type": "display_data"
    }
   ],
   "source": [
    "# Fit the classification tree\n",
    "md_classtree <- tree(Species ~ ., data=ir)\n",
    "summary(md_classtree)"
   ]
  },
  {
   "cell_type": "code",
   "execution_count": 606,
   "metadata": {},
   "outputs": [
    {
     "data": {
      "image/png": "[encoded data removed]",
      "text/plain": [
       "plot without title"
      ]
     },
     "metadata": {},
     "output_type": "display_data"
    }
   ],
   "source": [
    "# Plot the classification tree\n",
    "options(repr.plot.width=15, repr.plot.height=6)\n",
    "plot(md_classtree, type='uniform')\n",
    "text(md_classtree, pretty=0)"
   ]
  },
  {
   "cell_type": "code",
   "execution_count": 540,
   "metadata": {},
   "outputs": [
    {
     "data": {
      "text/plain": [
       "node), split, n, deviance, yval, (yprob)\n",
       "      * denotes terminal node\n",
       "\n",
       " 1) root 150 329.600 setosa ( 0.33333 0.33333 0.33333 )  \n",
       "   2) Petal.Length < 2.45 50   0.000 setosa ( 1.00000 0.00000 0.00000 ) *\n",
       "   3) Petal.Length > 2.45 100 138.600 versicolor ( 0.00000 0.50000 0.50000 )  \n",
       "     6) Petal.Width < 1.75 54  33.320 versicolor ( 0.00000 0.90741 0.09259 )  \n",
       "      12) Petal.Length < 4.95 48   9.721 versicolor ( 0.00000 0.97917 0.02083 )  \n",
       "        24) Sepal.Length < 5.15 5   5.004 versicolor ( 0.00000 0.80000 0.20000 ) *\n",
       "        25) Sepal.Length > 5.15 43   0.000 versicolor ( 0.00000 1.00000 0.00000 ) *\n",
       "      13) Petal.Length > 4.95 6   7.638 virginica ( 0.00000 0.33333 0.66667 ) *\n",
       "     7) Petal.Width > 1.75 46   9.635 virginica ( 0.00000 0.02174 0.97826 )  \n",
       "      14) Petal.Length < 4.95 6   5.407 virginica ( 0.00000 0.16667 0.83333 ) *\n",
       "      15) Petal.Length > 4.95 40   0.000 virginica ( 0.00000 0.00000 1.00000 ) *"
      ]
     },
     "metadata": {},
     "output_type": "display_data"
    }
   ],
   "source": [
    "# Print out the tree details\n",
    "md_classtree"
   ]
  },
  {
   "cell_type": "code",
   "execution_count": 616,
   "metadata": {},
   "outputs": [
    {
     "data": {
      "text/html": [
       "0.02083"
      ],
      "text/latex": [
       "0.02083"
      ],
      "text/markdown": [
       "0.02083"
      ],
      "text/plain": [
       "[1] 0.02083"
      ]
     },
     "metadata": {},
     "output_type": "display_data"
    },
    {
     "data": {
      "text/html": [
       "0.0208333333333333"
      ],
      "text/latex": [
       "0.0208333333333333"
      ],
      "text/markdown": [
       "0.0208333333333333"
      ],
      "text/plain": [
       "[1] 0.02083333"
      ]
     },
     "metadata": {},
     "output_type": "display_data"
    },
    {
     "data": {
      "text/html": [
       "0.101251983469098"
      ],
      "text/latex": [
       "0.101251983469098"
      ],
      "text/markdown": [
       "0.101251983469098"
      ],
      "text/plain": [
       "[1] 0.101252"
      ]
     },
     "metadata": {},
     "output_type": "display_data"
    },
    {
     "data": {
      "text/html": [
       "0.0521252524518946"
      ],
      "text/latex": [
       "0.0521252524518946"
      ],
      "text/markdown": [
       "0.0521252524518946"
      ],
      "text/plain": [
       "[1] 0.05212525"
      ]
     },
     "metadata": {},
     "output_type": "display_data"
    }
   ],
   "source": [
    "# Compare error rate\n",
    "e12 <- 1 - 0.97917  # Node 12\n",
    "e24 <- 1 - 0.80000  # Node 24\n",
    "e25 <- 1 - 1.00000  # Node 25\n",
    "\n",
    "e12\n",
    "e24 * 5/48 + e25 * 43/48\n",
    "\n",
    "# Compare cross-entropy (deviance)\n",
    "d12 <- - 0.97917 * log(0.97917) - 0.02083 * log(0.02083)\n",
    "d24 <- - 0.80000 * log(0.80000) - 0.20000 * log(0.20000)\n",
    "d25 <- - 1.00000 * log(1.00000)\n",
    "\n",
    "d12\n",
    "d24 * 5/48 + d25 * 43/48"
   ]
  },
  {
   "cell_type": "markdown",
   "metadata": {},
   "source": [
    "**4.2. Node impurity function for classification tree**"
   ]
  },
  {
   "cell_type": "code",
   "execution_count": 319,
   "metadata": {},
   "outputs": [
    {
     "data": {
      "image/png": "[encoded data removed]",
      "text/plain": [
       "plot without title"
      ]
     },
     "metadata": {},
     "output_type": "display_data"
    }
   ],
   "source": [
    "# Node impurity function for 2-class classification\n",
    "error <- function(pmk) { pmin(1 - pmk, pmk) }  # Misclassification error\n",
    "gini <- function(pmk) { pmk * (1 - pmk) + (1 - pmk) * pmk }  # Gini index\n",
    "deviance <- function(pmk) { -pmk * log(pmk) - (1 - pmk) * log(1 - pmk) }  # Cross-entropy or deviance\n",
    "\n",
    "# Create p value in [0; 1]\n",
    "p <- seq(0, 1, 0.001)\n",
    "\n",
    "# Scale deviance to range [0; 0.5]\n",
    "custom_scale <- function(v, a, b) { (b - a) * (v - min(v, na.rm=T)) / (max(v, na.rm=T) - min(v, na.rm=T)) + a }\n",
    "\n",
    "# Plot 3 inpurity function for 2-class classification\n",
    "options(repr.plot.width=6, repr.plot.height=4)\n",
    "plot(p, error(p), col='green', type='l', ylab='')\n",
    "lines(p, gini(p), col='blue', type='l')\n",
    "lines(p, custom_scale(deviance(p), 0, 0.5), col='orange', type='l')"
   ]
  },
  {
   "cell_type": "markdown",
   "metadata": {},
   "source": [
    "## Lab: Decision Tree, Bagging and Boosting\n",
    "\n",
    "1. Cars Sales Data - Classification Tree\n",
    "2. Cars Sales Data - Regression Tree\n",
    "3. Boston Housing Data - Bagging and Random Forests\n",
    "4. Boston Housing Data - Boosting Regression Tree\n",
    "5. Student's Performance - Benchmarking - Classification"
   ]
  },
  {
   "cell_type": "markdown",
   "metadata": {},
   "source": [
    "### Lab 1: Cars Sales Data - Classification Tree"
   ]
  },
  {
   "cell_type": "markdown",
   "metadata": {},
   "source": [
    "**1.1. Import, explore and prepare data**"
   ]
  },
  {
   "cell_type": "code",
   "execution_count": 478,
   "metadata": {
    "collapsed": true
   },
   "outputs": [],
   "source": [
    "# Load require packages\n",
    "library(tree)  # Regression and classification tree\n",
    "library(ISLR)  # Dataset"
   ]
  },
  {
   "cell_type": "code",
   "execution_count": 479,
   "metadata": {},
   "outputs": [
    {
     "name": "stdout",
     "output_type": "stream",
     "text": [
      "'data.frame':\t400 obs. of  11 variables:\n",
      " $ Sales      : num  9.5 11.22 10.06 7.4 4.15 ...\n",
      " $ CompPrice  : num  138 111 113 117 141 124 115 136 132 132 ...\n",
      " $ Income     : num  73 48 35 100 64 113 105 81 110 113 ...\n",
      " $ Advertising: num  11 16 10 4 3 13 0 15 0 0 ...\n",
      " $ Population : num  276 260 269 466 340 501 45 425 108 131 ...\n",
      " $ Price      : num  120 83 80 97 128 72 108 120 124 124 ...\n",
      " $ ShelveLoc  : Factor w/ 3 levels \"Bad\",\"Good\",\"Medium\": 1 2 3 3 1 1 3 2 3 3 ...\n",
      " $ Age        : num  42 65 59 55 38 78 71 67 76 76 ...\n",
      " $ Education  : num  17 10 12 14 13 16 15 10 10 17 ...\n",
      " $ Urban      : Factor w/ 2 levels \"No\",\"Yes\": 2 2 2 2 2 1 2 2 1 1 ...\n",
      " $ US         : Factor w/ 2 levels \"No\",\"Yes\": 2 2 2 2 1 2 1 2 1 2 ...\n"
     ]
    }
   ],
   "source": [
    "# Load and explore the dataset\n",
    "cs <- ISLR::Carseats\n",
    "str(cs)"
   ]
  },
  {
   "cell_type": "code",
   "execution_count": 86,
   "metadata": {},
   "outputs": [
    {
     "data": {
      "text/html": [
       "<dl class=dl-horizontal>\n",
       "\t<dt>CompPrice</dt>\n",
       "\t\t<dd>0</dd>\n",
       "\t<dt>Income</dt>\n",
       "\t\t<dd>0</dd>\n",
       "\t<dt>Advertising</dt>\n",
       "\t\t<dd>0</dd>\n",
       "\t<dt>Population</dt>\n",
       "\t\t<dd>0</dd>\n",
       "\t<dt>Price</dt>\n",
       "\t\t<dd>0</dd>\n",
       "\t<dt>ShelveLoc</dt>\n",
       "\t\t<dd>0</dd>\n",
       "\t<dt>Age</dt>\n",
       "\t\t<dd>0</dd>\n",
       "\t<dt>Education</dt>\n",
       "\t\t<dd>0</dd>\n",
       "\t<dt>Urban</dt>\n",
       "\t\t<dd>0</dd>\n",
       "\t<dt>US</dt>\n",
       "\t\t<dd>0</dd>\n",
       "\t<dt>High</dt>\n",
       "\t\t<dd>0</dd>\n",
       "</dl>\n"
      ],
      "text/latex": [
       "\\begin{description*}\n",
       "\\item[CompPrice] 0\n",
       "\\item[Income] 0\n",
       "\\item[Advertising] 0\n",
       "\\item[Population] 0\n",
       "\\item[Price] 0\n",
       "\\item[ShelveLoc] 0\n",
       "\\item[Age] 0\n",
       "\\item[Education] 0\n",
       "\\item[Urban] 0\n",
       "\\item[US] 0\n",
       "\\item[High] 0\n",
       "\\end{description*}\n"
      ],
      "text/markdown": [
       "CompPrice\n",
       ":   0Income\n",
       ":   0Advertising\n",
       ":   0Population\n",
       ":   0Price\n",
       ":   0ShelveLoc\n",
       ":   0Age\n",
       ":   0Education\n",
       ":   0Urban\n",
       ":   0US\n",
       ":   0High\n",
       ":   0\n",
       "\n"
      ],
      "text/plain": [
       "  CompPrice      Income Advertising  Population       Price   ShelveLoc \n",
       "          0           0           0           0           0           0 \n",
       "        Age   Education       Urban          US        High \n",
       "          0           0           0           0           0 "
      ]
     },
     "metadata": {},
     "output_type": "display_data"
    }
   ],
   "source": [
    "# Check NAs\n",
    "apply(is.na(cs), 2, sum)"
   ]
  },
  {
   "cell_type": "code",
   "execution_count": 480,
   "metadata": {},
   "outputs": [
    {
     "data": {
      "text/plain": [
       "   Min. 1st Qu.  Median    Mean 3rd Qu.    Max. \n",
       "  0.000   5.390   7.490   7.496   9.320  16.270 "
      ]
     },
     "metadata": {},
     "output_type": "display_data"
    },
    {
     "data": {
      "image/png": "[encoded data removed]",
      "text/plain": [
       "Plot with title \"Sales Histogram\""
      ]
     },
     "metadata": {},
     "output_type": "display_data"
    }
   ],
   "source": [
    "# Check the target variable\n",
    "summary(cs$Sales)\n",
    "\n",
    "options(repr.plot.width=4, repr.plot.height=4)\n",
    "hist(cs$Sales,\n",
    "     main='Sales Histogram', xlab='Sales')"
   ]
  },
  {
   "cell_type": "code",
   "execution_count": 481,
   "metadata": {
    "collapsed": true
   },
   "outputs": [],
   "source": [
    "# Create a new target variable for classification problem\n",
    "cs$High <- as.factor(ifelse(cs$Sales <= 8, 'No', 'Yes'))\n",
    "cs$Sales <- NULL  # Drop Sales"
   ]
  },
  {
   "cell_type": "code",
   "execution_count": 486,
   "metadata": {},
   "outputs": [
    {
     "data": {
      "text/plain": [
       "\n",
       "  No  Yes \n",
       "0.59 0.41 "
      ]
     },
     "metadata": {},
     "output_type": "display_data"
    },
    {
     "data": {
      "image/png": "[encoded data removed]",
      "text/plain": [
       "plot without title"
      ]
     },
     "metadata": {},
     "output_type": "display_data"
    }
   ],
   "source": [
    "# Check the new target variable\n",
    "table(cs$High) / nrow(cs)  # Almost balnaced\n",
    "\n",
    "options(repr.plot.width=3, repr.plot.height=4)\n",
    "barplot(table(cs$High))"
   ]
  },
  {
   "cell_type": "markdown",
   "metadata": {},
   "source": [
    "**1.2. Quick test the Decision Tree model**"
   ]
  },
  {
   "cell_type": "code",
   "execution_count": 487,
   "metadata": {},
   "outputs": [
    {
     "data": {
      "text/plain": [
       "\n",
       "Classification tree:\n",
       "tree(formula = High ~ ., data = cs)\n",
       "Variables actually used in tree construction:\n",
       "[1] \"ShelveLoc\"   \"Price\"       \"Income\"      \"CompPrice\"   \"Population\" \n",
       "[6] \"Advertising\" \"Age\"         \"US\"         \n",
       "Number of terminal nodes:  27 \n",
       "Residual mean deviance:  0.4575 = 170.7 / 373 \n",
       "Misclassification error rate: 0.09 = 36 / 400 "
      ]
     },
     "metadata": {},
     "output_type": "display_data"
    }
   ],
   "source": [
    "# Fit the Decision Tree model\n",
    "md_tree <- tree(High ~ ., data=cs)\n",
    "summary(md_tree)"
   ]
  },
  {
   "cell_type": "code",
   "execution_count": 114,
   "metadata": {},
   "outputs": [
    {
     "data": {
      "image/png": "[encoded data removed]",
      "text/plain": [
       "plot without title"
      ]
     },
     "metadata": {},
     "output_type": "display_data"
    }
   ],
   "source": [
    "# Show the Decision Tree\n",
    "options(repr.plot.width=15, repr.plot.height=15)\n",
    "plot(md_tree)\n",
    "text(md_tree, pretty=0)"
   ]
  },
  {
   "cell_type": "code",
   "execution_count": 117,
   "metadata": {},
   "outputs": [
    {
     "data": {
      "text/plain": [
       "node), split, n, deviance, yval, (yprob)\n",
       "      * denotes terminal node\n",
       "\n",
       "  1) root 400 541.500 No ( 0.59000 0.41000 )  \n",
       "    2) ShelveLoc: Bad,Medium 315 390.600 No ( 0.68889 0.31111 )  \n",
       "      4) Price < 92.5 46  56.530 Yes ( 0.30435 0.69565 )  \n",
       "        8) Income < 57 10  12.220 No ( 0.70000 0.30000 )  \n",
       "         16) CompPrice < 110.5 5   0.000 No ( 1.00000 0.00000 ) *\n",
       "         17) CompPrice > 110.5 5   6.730 Yes ( 0.40000 0.60000 ) *\n",
       "        9) Income > 57 36  35.470 Yes ( 0.19444 0.80556 )  \n",
       "         18) Population < 207.5 16  21.170 Yes ( 0.37500 0.62500 ) *\n",
       "         19) Population > 207.5 20   7.941 Yes ( 0.05000 0.95000 ) *\n",
       "      5) Price > 92.5 269 299.800 No ( 0.75465 0.24535 )  \n",
       "       10) Advertising < 13.5 224 213.200 No ( 0.81696 0.18304 )  \n",
       "         20) CompPrice < 124.5 96  44.890 No ( 0.93750 0.06250 )  \n",
       "           40) Price < 106.5 38  33.150 No ( 0.84211 0.15789 )  \n",
       "             80) Population < 177 12  16.300 No ( 0.58333 0.41667 )  \n",
       "              160) Income < 60.5 6   0.000 No ( 1.00000 0.00000 ) *\n",
       "              161) Income > 60.5 6   5.407 Yes ( 0.16667 0.83333 ) *\n",
       "             81) Population > 177 26   8.477 No ( 0.96154 0.03846 ) *\n",
       "           41) Price > 106.5 58   0.000 No ( 1.00000 0.00000 ) *\n",
       "         21) CompPrice > 124.5 128 150.200 No ( 0.72656 0.27344 )  \n",
       "           42) Price < 122.5 51  70.680 Yes ( 0.49020 0.50980 )  \n",
       "             84) ShelveLoc: Bad 11   6.702 No ( 0.90909 0.09091 ) *\n",
       "             85) ShelveLoc: Medium 40  52.930 Yes ( 0.37500 0.62500 )  \n",
       "              170) Price < 109.5 16   7.481 Yes ( 0.06250 0.93750 ) *\n",
       "              171) Price > 109.5 24  32.600 No ( 0.58333 0.41667 )  \n",
       "                342) Age < 49.5 13  16.050 Yes ( 0.30769 0.69231 ) *\n",
       "                343) Age > 49.5 11   6.702 No ( 0.90909 0.09091 ) *\n",
       "           43) Price > 122.5 77  55.540 No ( 0.88312 0.11688 )  \n",
       "             86) CompPrice < 147.5 58  17.400 No ( 0.96552 0.03448 ) *\n",
       "             87) CompPrice > 147.5 19  25.010 No ( 0.63158 0.36842 )  \n",
       "              174) Price < 147 12  16.300 Yes ( 0.41667 0.58333 )  \n",
       "                348) CompPrice < 152.5 7   5.742 Yes ( 0.14286 0.85714 ) *\n",
       "                349) CompPrice > 152.5 5   5.004 No ( 0.80000 0.20000 ) *\n",
       "              175) Price > 147 7   0.000 No ( 1.00000 0.00000 ) *\n",
       "       11) Advertising > 13.5 45  61.830 Yes ( 0.44444 0.55556 )  \n",
       "         22) Age < 54.5 25  25.020 Yes ( 0.20000 0.80000 )  \n",
       "           44) CompPrice < 130.5 14  18.250 Yes ( 0.35714 0.64286 )  \n",
       "             88) Income < 100 9  12.370 No ( 0.55556 0.44444 ) *\n",
       "             89) Income > 100 5   0.000 Yes ( 0.00000 1.00000 ) *\n",
       "           45) CompPrice > 130.5 11   0.000 Yes ( 0.00000 1.00000 ) *\n",
       "         23) Age > 54.5 20  22.490 No ( 0.75000 0.25000 )  \n",
       "           46) CompPrice < 122.5 10   0.000 No ( 1.00000 0.00000 ) *\n",
       "           47) CompPrice > 122.5 10  13.860 No ( 0.50000 0.50000 )  \n",
       "             94) Price < 125 5   0.000 Yes ( 0.00000 1.00000 ) *\n",
       "             95) Price > 125 5   0.000 No ( 1.00000 0.00000 ) *\n",
       "    3) ShelveLoc: Good 85  90.330 Yes ( 0.22353 0.77647 )  \n",
       "      6) Price < 135 68  49.260 Yes ( 0.11765 0.88235 )  \n",
       "       12) US: No 17  22.070 Yes ( 0.35294 0.64706 )  \n",
       "         24) Price < 109 8   0.000 Yes ( 0.00000 1.00000 ) *\n",
       "         25) Price > 109 9  11.460 No ( 0.66667 0.33333 ) *\n",
       "       13) US: Yes 51  16.880 Yes ( 0.03922 0.96078 ) *\n",
       "      7) Price > 135 17  22.070 No ( 0.64706 0.35294 )  \n",
       "       14) Income < 46 6   0.000 No ( 1.00000 0.00000 ) *\n",
       "       15) Income > 46 11  15.160 Yes ( 0.45455 0.54545 ) *"
      ]
     },
     "metadata": {},
     "output_type": "display_data"
    }
   ],
   "source": [
    "# The Decision Tree model in detailed\n",
    "# Ref: https://stats.stackexchange.com/questions/6581/what-is-deviance-specifically-in-cart-rpart\n",
    "md_tree"
   ]
  },
  {
   "cell_type": "markdown",
   "metadata": {},
   "source": [
    "**1.3. Evaluate the Decision Tree model with train/test set**"
   ]
  },
  {
   "cell_type": "code",
   "execution_count": 488,
   "metadata": {
    "collapsed": true
   },
   "outputs": [],
   "source": [
    "# Separate train/test\n",
    "set.seed(2)\n",
    "train_idx <- sample(1:nrow(cs), 200)\n",
    "train <- cs[train_idx, ]\n",
    "test <- cs[-train_idx, ]"
   ]
  },
  {
   "cell_type": "code",
   "execution_count": 489,
   "metadata": {
    "collapsed": true
   },
   "outputs": [],
   "source": [
    "# Fit Decision Tree on train dataset\n",
    "md_tree <- tree(High ~ ., data=train)"
   ]
  },
  {
   "cell_type": "code",
   "execution_count": 490,
   "metadata": {},
   "outputs": [
    {
     "data": {
      "image/png": "[encoded data removed]",
      "text/plain": [
       "plot without title"
      ]
     },
     "metadata": {},
     "output_type": "display_data"
    }
   ],
   "source": [
    "# Show the Decision Tree\n",
    "options(repr.plot.width=15, repr.plot.height=15)\n",
    "plot(md_tree)\n",
    "text(md_tree, pretty=0)"
   ]
  },
  {
   "cell_type": "code",
   "execution_count": 125,
   "metadata": {},
   "outputs": [
    {
     "data": {
      "text/plain": [
       "     \n",
       "pred  No Yes\n",
       "  No  88  28\n",
       "  Yes 28  56"
      ]
     },
     "metadata": {},
     "output_type": "display_data"
    },
    {
     "data": {
      "text/html": [
       "0.72"
      ],
      "text/latex": [
       "0.72"
      ],
      "text/markdown": [
       "0.72"
      ],
      "text/plain": [
       "[1] 0.72"
      ]
     },
     "metadata": {},
     "output_type": "display_data"
    }
   ],
   "source": [
    "# Make the prediction\n",
    "pred <- predict(md_tree, newdata=test, type='class')\n",
    "\n",
    "# Evaluation: confusion matrix\n",
    "table(pred, test$High)\n",
    "\n",
    "# Accuracy\n",
    "mean(pred == test$High)"
   ]
  },
  {
   "cell_type": "markdown",
   "metadata": {},
   "source": [
    "**1.4. Prune Decision Tree**"
   ]
  },
  {
   "cell_type": "code",
   "execution_count": 129,
   "metadata": {},
   "outputs": [
    {
     "data": {
      "text/plain": [
       "$size\n",
       "[1] 19 17 14 13  9  7  3  2  1\n",
       "\n",
       "$dev\n",
       "[1] 55 55 53 52 50 56 69 65 80\n",
       "\n",
       "$k\n",
       "[1]       -Inf  0.0000000  0.6666667  1.0000000  1.7500000  2.0000000  4.2500000\n",
       "[8]  5.0000000 23.0000000\n",
       "\n",
       "$method\n",
       "[1] \"misclass\"\n",
       "\n",
       "attr(,\"class\")\n",
       "[1] \"prune\"         \"tree.sequence\""
      ]
     },
     "metadata": {},
     "output_type": "display_data"
    }
   ],
   "source": [
    "# Prune the previous tree using error rate\n",
    "set.seed(3)\n",
    "cv_cs <- cv.tree(md_tree, FUN=prune.misclass)\n",
    "cv_cs"
   ]
  },
  {
   "cell_type": "code",
   "execution_count": 136,
   "metadata": {},
   "outputs": [
    {
     "data": {
      "image/png": "[encoded data removed]",
      "text/plain": [
       "plot without title"
      ]
     },
     "metadata": {},
     "output_type": "display_data"
    }
   ],
   "source": [
    "# Show the Decision Tree\n",
    "options(repr.plot.width=8, repr.plot.height=4)\n",
    "par(mfrow=c(1, 2))\n",
    "plot(cv_cs$size, cv_cs$dev, type='b')  # Tree size, number of nodes\n",
    "abline(v=9, col='red')  # Best tree size\n",
    "plot(cv_cs$k, cv_cs$dev, type='b')  # Cost-complexity param, alpha"
   ]
  },
  {
   "cell_type": "code",
   "execution_count": 227,
   "metadata": {},
   "outputs": [
    {
     "data": {
      "image/png": "[encoded data removed]",
      "text/plain": [
       "plot without title"
      ]
     },
     "metadata": {},
     "output_type": "display_data"
    }
   ],
   "source": [
    "# Show the Decision Tree\n",
    "options(repr.plot.width=4, repr.plot.height=4)\n",
    "plot(cv_cs$k, cv_cs$size, type='b')"
   ]
  },
  {
   "cell_type": "code",
   "execution_count": 137,
   "metadata": {},
   "outputs": [
    {
     "data": {
      "image/png": "[encoded data removed]",
      "text/plain": [
       "plot without title"
      ]
     },
     "metadata": {},
     "output_type": "display_data"
    }
   ],
   "source": [
    "# Prune the tree to 9 nodes\n",
    "prune_tree <- prune.misclass(md_tree, best=9)\n",
    "\n",
    "# Show the tree\n",
    "options(repr.plot.width=15, repr.plot.height=15)\n",
    "plot(prune_tree)\n",
    "text(prune_tree, pretty=0)"
   ]
  },
  {
   "cell_type": "code",
   "execution_count": 138,
   "metadata": {
    "scrolled": true
   },
   "outputs": [
    {
     "data": {
      "text/plain": [
       "           \n",
       "pred_pruned No Yes\n",
       "        No  94  24\n",
       "        Yes 22  60"
      ]
     },
     "metadata": {},
     "output_type": "display_data"
    },
    {
     "data": {
      "text/html": [
       "0.77"
      ],
      "text/latex": [
       "0.77"
      ],
      "text/markdown": [
       "0.77"
      ],
      "text/plain": [
       "[1] 0.77"
      ]
     },
     "metadata": {},
     "output_type": "display_data"
    }
   ],
   "source": [
    "# Check the performance of the pruned tree\n",
    "pred_pruned <- predict(prune_tree, newdata=test, type='class')\n",
    "\n",
    "# Evaluation: confusion matrix\n",
    "table(pred_pruned, test$High)\n",
    "\n",
    "# Accuracy\n",
    "mean(pred_pruned == test$High)"
   ]
  },
  {
   "cell_type": "markdown",
   "metadata": {},
   "source": [
    "### Lab 2: Cars Sales Data - Regression Tree"
   ]
  },
  {
   "cell_type": "markdown",
   "metadata": {},
   "source": [
    "**2.1. Import, explore and prepare data**"
   ]
  },
  {
   "cell_type": "code",
   "execution_count": 139,
   "metadata": {
    "collapsed": true
   },
   "outputs": [],
   "source": [
    "# Load require packages\n",
    "library(tree)  # Regression and classification tree\n",
    "library(MASS)  # Housing dataset"
   ]
  },
  {
   "cell_type": "code",
   "execution_count": 141,
   "metadata": {},
   "outputs": [
    {
     "name": "stdout",
     "output_type": "stream",
     "text": [
      "'data.frame':\t506 obs. of  14 variables:\n",
      " $ crim   : num  0.00632 0.02731 0.02729 0.03237 0.06905 ...\n",
      " $ zn     : num  18 0 0 0 0 0 12.5 12.5 12.5 12.5 ...\n",
      " $ indus  : num  2.31 7.07 7.07 2.18 2.18 2.18 7.87 7.87 7.87 7.87 ...\n",
      " $ chas   : int  0 0 0 0 0 0 0 0 0 0 ...\n",
      " $ nox    : num  0.538 0.469 0.469 0.458 0.458 0.458 0.524 0.524 0.524 0.524 ...\n",
      " $ rm     : num  6.58 6.42 7.18 7 7.15 ...\n",
      " $ age    : num  65.2 78.9 61.1 45.8 54.2 58.7 66.6 96.1 100 85.9 ...\n",
      " $ dis    : num  4.09 4.97 4.97 6.06 6.06 ...\n",
      " $ rad    : int  1 2 2 3 3 3 5 5 5 5 ...\n",
      " $ tax    : num  296 242 242 222 222 222 311 311 311 311 ...\n",
      " $ ptratio: num  15.3 17.8 17.8 18.7 18.7 18.7 15.2 15.2 15.2 15.2 ...\n",
      " $ black  : num  397 397 393 395 397 ...\n",
      " $ lstat  : num  4.98 9.14 4.03 2.94 5.33 ...\n",
      " $ medv   : num  24 21.6 34.7 33.4 36.2 28.7 22.9 27.1 16.5 18.9 ...\n"
     ]
    }
   ],
   "source": [
    "# Load and explore the dataset\n",
    "bt <- MASS::Boston\n",
    "str(bt)"
   ]
  },
  {
   "cell_type": "code",
   "execution_count": 142,
   "metadata": {},
   "outputs": [
    {
     "data": {
      "text/html": [
       "<dl class=dl-horizontal>\n",
       "\t<dt>crim</dt>\n",
       "\t\t<dd>0</dd>\n",
       "\t<dt>zn</dt>\n",
       "\t\t<dd>0</dd>\n",
       "\t<dt>indus</dt>\n",
       "\t\t<dd>0</dd>\n",
       "\t<dt>chas</dt>\n",
       "\t\t<dd>0</dd>\n",
       "\t<dt>nox</dt>\n",
       "\t\t<dd>0</dd>\n",
       "\t<dt>rm</dt>\n",
       "\t\t<dd>0</dd>\n",
       "\t<dt>age</dt>\n",
       "\t\t<dd>0</dd>\n",
       "\t<dt>dis</dt>\n",
       "\t\t<dd>0</dd>\n",
       "\t<dt>rad</dt>\n",
       "\t\t<dd>0</dd>\n",
       "\t<dt>tax</dt>\n",
       "\t\t<dd>0</dd>\n",
       "\t<dt>ptratio</dt>\n",
       "\t\t<dd>0</dd>\n",
       "\t<dt>black</dt>\n",
       "\t\t<dd>0</dd>\n",
       "\t<dt>lstat</dt>\n",
       "\t\t<dd>0</dd>\n",
       "\t<dt>medv</dt>\n",
       "\t\t<dd>0</dd>\n",
       "</dl>\n"
      ],
      "text/latex": [
       "\\begin{description*}\n",
       "\\item[crim] 0\n",
       "\\item[zn] 0\n",
       "\\item[indus] 0\n",
       "\\item[chas] 0\n",
       "\\item[nox] 0\n",
       "\\item[rm] 0\n",
       "\\item[age] 0\n",
       "\\item[dis] 0\n",
       "\\item[rad] 0\n",
       "\\item[tax] 0\n",
       "\\item[ptratio] 0\n",
       "\\item[black] 0\n",
       "\\item[lstat] 0\n",
       "\\item[medv] 0\n",
       "\\end{description*}\n"
      ],
      "text/markdown": [
       "crim\n",
       ":   0zn\n",
       ":   0indus\n",
       ":   0chas\n",
       ":   0nox\n",
       ":   0rm\n",
       ":   0age\n",
       ":   0dis\n",
       ":   0rad\n",
       ":   0tax\n",
       ":   0ptratio\n",
       ":   0black\n",
       ":   0lstat\n",
       ":   0medv\n",
       ":   0\n",
       "\n"
      ],
      "text/plain": [
       "   crim      zn   indus    chas     nox      rm     age     dis     rad     tax \n",
       "      0       0       0       0       0       0       0       0       0       0 \n",
       "ptratio   black   lstat    medv \n",
       "      0       0       0       0 "
      ]
     },
     "metadata": {},
     "output_type": "display_data"
    }
   ],
   "source": [
    "# Check NAs\n",
    "apply(is.na(bt), 2, sum)"
   ]
  },
  {
   "cell_type": "code",
   "execution_count": 149,
   "metadata": {},
   "outputs": [
    {
     "data": {
      "text/plain": [
       "   Min. 1st Qu.  Median    Mean 3rd Qu.    Max. \n",
       "   5.00   17.02   21.20   22.53   25.00   50.00 "
      ]
     },
     "metadata": {},
     "output_type": "display_data"
    },
    {
     "data": {
      "image/png": "[encoded data removed]",
      "text/plain": [
       "Plot with title \"Histogram of bt$medv\""
      ]
     },
     "metadata": {},
     "output_type": "display_data"
    }
   ],
   "source": [
    "# Check the target variable: median house price\n",
    "summary(bt$medv)\n",
    "\n",
    "options(repr.plot.width=4, repr.plot.height=4)\n",
    "hist(bt$medv)"
   ]
  },
  {
   "cell_type": "markdown",
   "metadata": {},
   "source": [
    "**2.2. Evaluate the Regression Tree model with train/test set**"
   ]
  },
  {
   "cell_type": "code",
   "execution_count": 144,
   "metadata": {
    "collapsed": true
   },
   "outputs": [],
   "source": [
    "# Separate train/test\n",
    "set.seed(1)\n",
    "train_idx <- sample(1:nrow(bt), nrow(bt) / 2)\n",
    "train <- bt[train_idx, ]\n",
    "test <- bt[-train_idx, ]"
   ]
  },
  {
   "cell_type": "code",
   "execution_count": 146,
   "metadata": {},
   "outputs": [
    {
     "data": {
      "text/plain": [
       "\n",
       "Regression tree:\n",
       "tree(formula = medv ~ ., data = train)\n",
       "Variables actually used in tree construction:\n",
       "[1] \"lstat\" \"rm\"    \"dis\"  \n",
       "Number of terminal nodes:  8 \n",
       "Residual mean deviance:  12.65 = 3099 / 245 \n",
       "Distribution of residuals:\n",
       "     Min.   1st Qu.    Median      Mean   3rd Qu.      Max. \n",
       "-14.10000  -2.04200  -0.05357   0.00000   1.96000  12.60000 "
      ]
     },
     "metadata": {},
     "output_type": "display_data"
    }
   ],
   "source": [
    "# Fit Decision Tree on train dataset\n",
    "md_rtree <- tree(medv ~ ., data=train)\n",
    "summary(md_rtree)"
   ]
  },
  {
   "cell_type": "code",
   "execution_count": 148,
   "metadata": {},
   "outputs": [
    {
     "data": {
      "image/png": "[encoded data removed]",
      "text/plain": [
       "plot without title"
      ]
     },
     "metadata": {},
     "output_type": "display_data"
    }
   ],
   "source": [
    "# Show the Decision Tree\n",
    "options(repr.plot.width=15, repr.plot.height=10)\n",
    "plot(md_rtree)\n",
    "text(md_rtree, pretty=0)"
   ]
  },
  {
   "cell_type": "code",
   "execution_count": 154,
   "metadata": {},
   "outputs": [
    {
     "data": {
      "text/html": [
       "25.0455923126146"
      ],
      "text/latex": [
       "25.0455923126146"
      ],
      "text/markdown": [
       "25.0455923126146"
      ],
      "text/plain": [
       "[1] 25.04559"
      ]
     },
     "metadata": {},
     "output_type": "display_data"
    }
   ],
   "source": [
    "# Make the prediction\n",
    "pred <- predict(md_rtree, newdata=test)\n",
    "\n",
    "# Evaluation: MSE\n",
    "mean((pred - test$medv) ^ 2)"
   ]
  },
  {
   "cell_type": "markdown",
   "metadata": {},
   "source": [
    "**2.3. Prune and evaluate Regression Tree**"
   ]
  },
  {
   "cell_type": "code",
   "execution_count": 155,
   "metadata": {},
   "outputs": [
    {
     "data": {
      "text/plain": [
       "$size\n",
       "[1] 8 7 6 5 4 3 2 1\n",
       "\n",
       "$dev\n",
       "[1]  5335.721  5988.901  6671.685  7349.550  7388.893  8812.276 14707.294\n",
       "[8] 21035.642\n",
       "\n",
       "$k\n",
       "[1]      -Inf  255.6581  451.9272  768.5087  818.8885 1559.1264 4276.5803\n",
       "[8] 9665.3582\n",
       "\n",
       "$method\n",
       "[1] \"deviance\"\n",
       "\n",
       "attr(,\"class\")\n",
       "[1] \"prune\"         \"tree.sequence\""
      ]
     },
     "metadata": {},
     "output_type": "display_data"
    }
   ],
   "source": [
    "# Prune the previous tree using error rate\n",
    "set.seed(3)\n",
    "cv_bt <- cv.tree(md_rtree)\n",
    "cv_bt"
   ]
  },
  {
   "cell_type": "code",
   "execution_count": 158,
   "metadata": {},
   "outputs": [
    {
     "data": {
      "image/png": "[encoded data removed]",
      "text/plain": [
       "plot without title"
      ]
     },
     "metadata": {},
     "output_type": "display_data"
    }
   ],
   "source": [
    "# Show the Decision Tree\n",
    "options(repr.plot.width=4, repr.plot.height=4)\n",
    "plot(cv_bt$size, cv_bt$dev, type='b')  # Tree size, number of nodes\n",
    "abline(v=9, col='red')  # Best tree size"
   ]
  },
  {
   "cell_type": "code",
   "execution_count": 160,
   "metadata": {},
   "outputs": [
    {
     "data": {
      "image/png": "[encoded data removed]",
      "text/plain": [
       "plot without title"
      ]
     },
     "metadata": {},
     "output_type": "display_data"
    }
   ],
   "source": [
    "# Prune the tree to 5 nodes\n",
    "prune_rtree <- prune.tree(md_rtree, best=5)\n",
    "\n",
    "# Show the tree\n",
    "options(repr.plot.width=15, repr.plot.height=10)\n",
    "plot(prune_rtree)\n",
    "text(prune_rtree, pretty=0)"
   ]
  },
  {
   "cell_type": "code",
   "execution_count": 161,
   "metadata": {
    "scrolled": false
   },
   "outputs": [
    {
     "data": {
      "text/html": [
       "26.8341269471099"
      ],
      "text/latex": [
       "26.8341269471099"
      ],
      "text/markdown": [
       "26.8341269471099"
      ],
      "text/plain": [
       "[1] 26.83413"
      ]
     },
     "metadata": {},
     "output_type": "display_data"
    }
   ],
   "source": [
    "# Check the performance of the pruned tree\n",
    "pred_pruned <- predict(prune_rtree, newdata=test)\n",
    "\n",
    "# Evaluation: MSE\n",
    "mean((pred_pruned - test$medv) ^ 2)"
   ]
  },
  {
   "cell_type": "markdown",
   "metadata": {},
   "source": [
    "### Lab 3: Boston Housing Data - Bagging and Random Forests"
   ]
  },
  {
   "cell_type": "markdown",
   "metadata": {},
   "source": [
    "**3.1. Bagging Regression Tree**"
   ]
  },
  {
   "cell_type": "code",
   "execution_count": 162,
   "metadata": {},
   "outputs": [
    {
     "name": "stderr",
     "output_type": "stream",
     "text": [
      "randomForest 4.6-12\n",
      "Type rfNews() to see new features/changes/bug fixes.\n",
      "\n",
      "Attaching package: 'randomForest'\n",
      "\n",
      "The following object is masked from 'package:ggplot2':\n",
      "\n",
      "    margin\n",
      "\n"
     ]
    }
   ],
   "source": [
    "# Load required libaries and data\n",
    "library(randomForest)  # Random Forests model\n",
    "library(MASS)  # Boston housing data"
   ]
  },
  {
   "cell_type": "code",
   "execution_count": 163,
   "metadata": {},
   "outputs": [
    {
     "name": "stdout",
     "output_type": "stream",
     "text": [
      "'data.frame':\t506 obs. of  14 variables:\n",
      " $ crim   : num  0.00632 0.02731 0.02729 0.03237 0.06905 ...\n",
      " $ zn     : num  18 0 0 0 0 0 12.5 12.5 12.5 12.5 ...\n",
      " $ indus  : num  2.31 7.07 7.07 2.18 2.18 2.18 7.87 7.87 7.87 7.87 ...\n",
      " $ chas   : int  0 0 0 0 0 0 0 0 0 0 ...\n",
      " $ nox    : num  0.538 0.469 0.469 0.458 0.458 0.458 0.524 0.524 0.524 0.524 ...\n",
      " $ rm     : num  6.58 6.42 7.18 7 7.15 ...\n",
      " $ age    : num  65.2 78.9 61.1 45.8 54.2 58.7 66.6 96.1 100 85.9 ...\n",
      " $ dis    : num  4.09 4.97 4.97 6.06 6.06 ...\n",
      " $ rad    : int  1 2 2 3 3 3 5 5 5 5 ...\n",
      " $ tax    : num  296 242 242 222 222 222 311 311 311 311 ...\n",
      " $ ptratio: num  15.3 17.8 17.8 18.7 18.7 18.7 15.2 15.2 15.2 15.2 ...\n",
      " $ black  : num  397 397 393 395 397 ...\n",
      " $ lstat  : num  4.98 9.14 4.03 2.94 5.33 ...\n",
      " $ medv   : num  24 21.6 34.7 33.4 36.2 28.7 22.9 27.1 16.5 18.9 ...\n"
     ]
    }
   ],
   "source": [
    "# Import data\n",
    "house <- MASS::Boston\n",
    "str(house)"
   ]
  },
  {
   "cell_type": "code",
   "execution_count": 164,
   "metadata": {
    "collapsed": true
   },
   "outputs": [],
   "source": [
    "# Separate train/test\n",
    "set.seed(1)\n",
    "train_idx <- sample(1:nrow(house), nrow(house) / 2)\n",
    "train <- bt[train_idx, ]\n",
    "test <- bt[-train_idx, ]"
   ]
  },
  {
   "cell_type": "code",
   "execution_count": 167,
   "metadata": {},
   "outputs": [
    {
     "data": {
      "text/plain": [
       "\n",
       "Call:\n",
       " randomForest(formula = medv ~ ., data = train, mtry = 13, importance = T) \n",
       "               Type of random forest: regression\n",
       "                     Number of trees: 500\n",
       "No. of variables tried at each split: 13\n",
       "\n",
       "          Mean of squared residuals: 11.02164\n",
       "                    % Var explained: 86.65"
      ]
     },
     "metadata": {},
     "output_type": "display_data"
    }
   ],
   "source": [
    "# Fit bagging model, use all predictors\n",
    "md_bagtree <- randomForest(medv ~ ., data=train, mtry=13, importance=T)\n",
    "md_bagtree"
   ]
  },
  {
   "cell_type": "code",
   "execution_count": 172,
   "metadata": {},
   "outputs": [
    {
     "data": {
      "text/html": [
       "13.2969012994634"
      ],
      "text/latex": [
       "13.2969012994634"
      ],
      "text/markdown": [
       "13.2969012994634"
      ],
      "text/plain": [
       "[1] 13.2969"
      ]
     },
     "metadata": {},
     "output_type": "display_data"
    },
    {
     "data": {
      "image/png": "[encoded data removed]",
      "text/plain": [
       "plot without title"
      ]
     },
     "metadata": {},
     "output_type": "display_data"
    }
   ],
   "source": [
    "# Make prediction\n",
    "pred <- predict(md_bagtree, newdata=test)\n",
    "\n",
    "options(repr.plot.width=4, repr.plot.height=4)\n",
    "plot(pred, test$medv)\n",
    "abline(0, 1, col='red')\n",
    "\n",
    "# MSE\n",
    "mean((pred - test$medv) ^ 2)"
   ]
  },
  {
   "cell_type": "code",
   "execution_count": 180,
   "metadata": {},
   "outputs": [
    {
     "data": {
      "text/html": [
       "12.7667807216864"
      ],
      "text/latex": [
       "12.7667807216864"
      ],
      "text/markdown": [
       "12.7667807216864"
      ],
      "text/plain": [
       "[1] 12.76678"
      ]
     },
     "metadata": {},
     "output_type": "display_data"
    }
   ],
   "source": [
    "# Fit bagging model with different number of trees\n",
    "md_bagtree <- randomForest(medv ~ ., data=train, mtry=13, ntree=25, importance=T)\n",
    "pred <- predict(md_bagtree, newdata=test)\n",
    "\n",
    "# Evaluation: MSE\n",
    "mean((pred - test$medv) ^ 2)"
   ]
  },
  {
   "cell_type": "markdown",
   "metadata": {},
   "source": [
    "**3.2. Random Forests**"
   ]
  },
  {
   "cell_type": "code",
   "execution_count": 181,
   "metadata": {},
   "outputs": [
    {
     "data": {
      "text/plain": [
       "\n",
       "Call:\n",
       " randomForest(formula = medv ~ ., data = train, mtry = 6, importance = T) \n",
       "               Type of random forest: regression\n",
       "                     Number of trees: 500\n",
       "No. of variables tried at each split: 6\n",
       "\n",
       "          Mean of squared residuals: 12.09928\n",
       "                    % Var explained: 85.35"
      ]
     },
     "metadata": {},
     "output_type": "display_data"
    }
   ],
   "source": [
    "# Fit random forests model\n",
    "set.seed(1)\n",
    "md_rf <- randomForest(medv ~ ., data=train, mtry=6, importance=T)  # Default mtry = p/3\n",
    "md_rf"
   ]
  },
  {
   "cell_type": "code",
   "execution_count": 189,
   "metadata": {},
   "outputs": [
    {
     "data": {
      "text/html": [
       "11.4802165416298"
      ],
      "text/latex": [
       "11.4802165416298"
      ],
      "text/markdown": [
       "11.4802165416298"
      ],
      "text/plain": [
       "[1] 11.48022"
      ]
     },
     "metadata": {},
     "output_type": "display_data"
    }
   ],
   "source": [
    "# Make prediction\n",
    "pred_rf <- predict(md_rf, newdata=test)\n",
    "\n",
    "# Evaluation: MSE\n",
    "mean((pred_rf - test$medv) ^ 2)"
   ]
  },
  {
   "cell_type": "code",
   "execution_count": 191,
   "metadata": {},
   "outputs": [
    {
     "data": {
      "text/html": [
       "<table>\n",
       "<thead><tr><th></th><th scope=col>%IncMSE</th><th scope=col>IncNodePurity</th></tr></thead>\n",
       "<tbody>\n",
       "\t<tr><th scope=row>crim</th><td>12.547772 </td><td>1094.65382</td></tr>\n",
       "\t<tr><th scope=row>zn</th><td> 1.375489 </td><td>  64.40060</td></tr>\n",
       "\t<tr><th scope=row>indus</th><td> 9.304258 </td><td>1086.09103</td></tr>\n",
       "\t<tr><th scope=row>chas</th><td> 2.518766 </td><td>  76.36804</td></tr>\n",
       "\t<tr><th scope=row>nox</th><td>12.835614 </td><td>1008.73703</td></tr>\n",
       "\t<tr><th scope=row>rm</th><td>31.646147 </td><td>6705.02638</td></tr>\n",
       "\t<tr><th scope=row>age</th><td> 9.970243 </td><td> 575.13702</td></tr>\n",
       "\t<tr><th scope=row>dis</th><td>12.774430 </td><td>1351.01978</td></tr>\n",
       "\t<tr><th scope=row>rad</th><td> 3.911852 </td><td>  93.78200</td></tr>\n",
       "\t<tr><th scope=row>tax</th><td> 7.624043 </td><td> 453.19472</td></tr>\n",
       "\t<tr><th scope=row>ptratio</th><td>12.008194 </td><td> 919.06760</td></tr>\n",
       "\t<tr><th scope=row>black</th><td> 7.376024 </td><td> 358.96935</td></tr>\n",
       "\t<tr><th scope=row>lstat</th><td>27.666896 </td><td>6927.98475</td></tr>\n",
       "</tbody>\n",
       "</table>\n"
      ],
      "text/latex": [
       "\\begin{tabular}{r|ll}\n",
       "  & \\%IncMSE & IncNodePurity\\\\\n",
       "\\hline\n",
       "\tcrim & 12.547772  & 1094.65382\\\\\n",
       "\tzn &  1.375489  &   64.40060\\\\\n",
       "\tindus &  9.304258  & 1086.09103\\\\\n",
       "\tchas &  2.518766  &   76.36804\\\\\n",
       "\tnox & 12.835614  & 1008.73703\\\\\n",
       "\trm & 31.646147  & 6705.02638\\\\\n",
       "\tage &  9.970243  &  575.13702\\\\\n",
       "\tdis & 12.774430  & 1351.01978\\\\\n",
       "\trad &  3.911852  &   93.78200\\\\\n",
       "\ttax &  7.624043  &  453.19472\\\\\n",
       "\tptratio & 12.008194  &  919.06760\\\\\n",
       "\tblack &  7.376024  &  358.96935\\\\\n",
       "\tlstat & 27.666896  & 6927.98475\\\\\n",
       "\\end{tabular}\n"
      ],
      "text/markdown": [
       "\n",
       "| <!--/--> | %IncMSE | IncNodePurity | \n",
       "|---|---|---|---|---|---|---|---|---|---|---|---|---|\n",
       "| crim | 12.547772  | 1094.65382 | \n",
       "| zn |  1.375489  |   64.40060 | \n",
       "| indus |  9.304258  | 1086.09103 | \n",
       "| chas |  2.518766  |   76.36804 | \n",
       "| nox | 12.835614  | 1008.73703 | \n",
       "| rm | 31.646147  | 6705.02638 | \n",
       "| age |  9.970243  |  575.13702 | \n",
       "| dis | 12.774430  | 1351.01978 | \n",
       "| rad |  3.911852  |   93.78200 | \n",
       "| tax |  7.624043  |  453.19472 | \n",
       "| ptratio | 12.008194  |  919.06760 | \n",
       "| black |  7.376024  |  358.96935 | \n",
       "| lstat | 27.666896  | 6927.98475 | \n",
       "\n",
       "\n"
      ],
      "text/plain": [
       "        %IncMSE   IncNodePurity\n",
       "crim    12.547772 1094.65382   \n",
       "zn       1.375489   64.40060   \n",
       "indus    9.304258 1086.09103   \n",
       "chas     2.518766   76.36804   \n",
       "nox     12.835614 1008.73703   \n",
       "rm      31.646147 6705.02638   \n",
       "age      9.970243  575.13702   \n",
       "dis     12.774430 1351.01978   \n",
       "rad      3.911852   93.78200   \n",
       "tax      7.624043  453.19472   \n",
       "ptratio 12.008194  919.06760   \n",
       "black    7.376024  358.96935   \n",
       "lstat   27.666896 6927.98475   "
      ]
     },
     "metadata": {},
     "output_type": "display_data"
    }
   ],
   "source": [
    "# Feature importance\n",
    "importance(md_rf)"
   ]
  },
  {
   "cell_type": "code",
   "execution_count": 195,
   "metadata": {
    "scrolled": true
   },
   "outputs": [
    {
     "data": {
      "image/png": "[encoded data removed]",
      "text/plain": [
       "plot without title"
      ]
     },
     "metadata": {},
     "output_type": "display_data"
    }
   ],
   "source": [
    "# Plot feature importance\n",
    "varImpPlot(md_rf)"
   ]
  },
  {
   "cell_type": "markdown",
   "metadata": {},
   "source": [
    "### Lab 4: Boston Housing Data - Boosting Regression Tree"
   ]
  },
  {
   "cell_type": "code",
   "execution_count": 196,
   "metadata": {},
   "outputs": [
    {
     "name": "stderr",
     "output_type": "stream",
     "text": [
      "Loading required package: survival\n",
      "\n",
      "Attaching package: 'survival'\n",
      "\n",
      "The following object is masked from 'package:caret':\n",
      "\n",
      "    cluster\n",
      "\n",
      "Loading required package: splines\n",
      "Loading required package: parallel\n",
      "Loaded gbm 2.1.3\n"
     ]
    }
   ],
   "source": [
    "# Load required libaries and data\n",
    "library(gbm)  # Boosting library\n",
    "library(MASS)  # Boston housing data"
   ]
  },
  {
   "cell_type": "code",
   "execution_count": 163,
   "metadata": {},
   "outputs": [
    {
     "name": "stdout",
     "output_type": "stream",
     "text": [
      "'data.frame':\t506 obs. of  14 variables:\n",
      " $ crim   : num  0.00632 0.02731 0.02729 0.03237 0.06905 ...\n",
      " $ zn     : num  18 0 0 0 0 0 12.5 12.5 12.5 12.5 ...\n",
      " $ indus  : num  2.31 7.07 7.07 2.18 2.18 2.18 7.87 7.87 7.87 7.87 ...\n",
      " $ chas   : int  0 0 0 0 0 0 0 0 0 0 ...\n",
      " $ nox    : num  0.538 0.469 0.469 0.458 0.458 0.458 0.524 0.524 0.524 0.524 ...\n",
      " $ rm     : num  6.58 6.42 7.18 7 7.15 ...\n",
      " $ age    : num  65.2 78.9 61.1 45.8 54.2 58.7 66.6 96.1 100 85.9 ...\n",
      " $ dis    : num  4.09 4.97 4.97 6.06 6.06 ...\n",
      " $ rad    : int  1 2 2 3 3 3 5 5 5 5 ...\n",
      " $ tax    : num  296 242 242 222 222 222 311 311 311 311 ...\n",
      " $ ptratio: num  15.3 17.8 17.8 18.7 18.7 18.7 15.2 15.2 15.2 15.2 ...\n",
      " $ black  : num  397 397 393 395 397 ...\n",
      " $ lstat  : num  4.98 9.14 4.03 2.94 5.33 ...\n",
      " $ medv   : num  24 21.6 34.7 33.4 36.2 28.7 22.9 27.1 16.5 18.9 ...\n"
     ]
    }
   ],
   "source": [
    "# Import data\n",
    "house <- MASS::Boston\n",
    "str(house)"
   ]
  },
  {
   "cell_type": "code",
   "execution_count": 164,
   "metadata": {
    "collapsed": true
   },
   "outputs": [],
   "source": [
    "# Separate train/test\n",
    "set.seed(1)\n",
    "train_idx <- sample(1:nrow(house), nrow(house) / 2)\n",
    "train <- bt[train_idx, ]\n",
    "test <- bt[-train_idx, ]"
   ]
  },
  {
   "cell_type": "code",
   "execution_count": 203,
   "metadata": {},
   "outputs": [
    {
     "data": {
      "text/html": [
       "<table>\n",
       "<thead><tr><th></th><th scope=col>var</th><th scope=col>rel.inf</th></tr></thead>\n",
       "<tbody>\n",
       "\t<tr><th scope=row>lstat</th><td>lstat     </td><td>45.9627334</td></tr>\n",
       "\t<tr><th scope=row>rm</th><td>rm        </td><td>31.2238187</td></tr>\n",
       "\t<tr><th scope=row>dis</th><td>dis       </td><td> 6.8087398</td></tr>\n",
       "\t<tr><th scope=row>crim</th><td>crim      </td><td> 4.0743784</td></tr>\n",
       "\t<tr><th scope=row>nox</th><td>nox       </td><td> 2.5605001</td></tr>\n",
       "\t<tr><th scope=row>ptratio</th><td>ptratio   </td><td> 2.2748652</td></tr>\n",
       "\t<tr><th scope=row>black</th><td>black     </td><td> 1.7971159</td></tr>\n",
       "\t<tr><th scope=row>age</th><td>age       </td><td> 1.6488532</td></tr>\n",
       "\t<tr><th scope=row>tax</th><td>tax       </td><td> 1.3595005</td></tr>\n",
       "\t<tr><th scope=row>indus</th><td>indus     </td><td> 1.2705924</td></tr>\n",
       "\t<tr><th scope=row>chas</th><td>chas      </td><td> 0.8014323</td></tr>\n",
       "\t<tr><th scope=row>rad</th><td>rad       </td><td> 0.2026619</td></tr>\n",
       "\t<tr><th scope=row>zn</th><td>zn        </td><td> 0.0148083</td></tr>\n",
       "</tbody>\n",
       "</table>\n"
      ],
      "text/latex": [
       "\\begin{tabular}{r|ll}\n",
       "  & var & rel.inf\\\\\n",
       "\\hline\n",
       "\tlstat & lstat      & 45.9627334\\\\\n",
       "\trm & rm         & 31.2238187\\\\\n",
       "\tdis & dis        &  6.8087398\\\\\n",
       "\tcrim & crim       &  4.0743784\\\\\n",
       "\tnox & nox        &  2.5605001\\\\\n",
       "\tptratio & ptratio    &  2.2748652\\\\\n",
       "\tblack & black      &  1.7971159\\\\\n",
       "\tage & age        &  1.6488532\\\\\n",
       "\ttax & tax        &  1.3595005\\\\\n",
       "\tindus & indus      &  1.2705924\\\\\n",
       "\tchas & chas       &  0.8014323\\\\\n",
       "\trad & rad        &  0.2026619\\\\\n",
       "\tzn & zn         &  0.0148083\\\\\n",
       "\\end{tabular}\n"
      ],
      "text/markdown": [
       "\n",
       "| <!--/--> | var | rel.inf | \n",
       "|---|---|---|---|---|---|---|---|---|---|---|---|---|\n",
       "| lstat | lstat      | 45.9627334 | \n",
       "| rm | rm         | 31.2238187 | \n",
       "| dis | dis        |  6.8087398 | \n",
       "| crim | crim       |  4.0743784 | \n",
       "| nox | nox        |  2.5605001 | \n",
       "| ptratio | ptratio    |  2.2748652 | \n",
       "| black | black      |  1.7971159 | \n",
       "| age | age        |  1.6488532 | \n",
       "| tax | tax        |  1.3595005 | \n",
       "| indus | indus      |  1.2705924 | \n",
       "| chas | chas       |  0.8014323 | \n",
       "| rad | rad        |  0.2026619 | \n",
       "| zn | zn         |  0.0148083 | \n",
       "\n",
       "\n"
      ],
      "text/plain": [
       "        var     rel.inf   \n",
       "lstat   lstat   45.9627334\n",
       "rm      rm      31.2238187\n",
       "dis     dis      6.8087398\n",
       "crim    crim     4.0743784\n",
       "nox     nox      2.5605001\n",
       "ptratio ptratio  2.2748652\n",
       "black   black    1.7971159\n",
       "age     age      1.6488532\n",
       "tax     tax      1.3595005\n",
       "indus   indus    1.2705924\n",
       "chas    chas     0.8014323\n",
       "rad     rad      0.2026619\n",
       "zn      zn       0.0148083"
      ]
     },
     "metadata": {},
     "output_type": "display_data"
    },
    {
     "data": {
      "image/png": "[encoded data removed]",
      "text/plain": [
       "plot without title"
      ]
     },
     "metadata": {},
     "output_type": "display_data"
    }
   ],
   "source": [
    "# Fit boosting regression tree\n",
    "set.seed(1)\n",
    "md_boosttree <- gbm(medv ~ ., data=train, distribution='gaussian',\n",
    "                    n.trees=5000, interaction.depth=4)\n",
    "summary(md_boosttree)"
   ]
  },
  {
   "cell_type": "code",
   "execution_count": 204,
   "metadata": {},
   "outputs": [
    {
     "data": {
      "image/png": "[encoded data removed]",
      "text/plain": [
       "plot without title"
      ]
     },
     "metadata": {},
     "output_type": "display_data"
    }
   ],
   "source": [
    "# Partial dependence plots\n",
    "options(repr.plot.width=8, repr.plot.height=4)\n",
    "par(mfrow=c(1, 2))\n",
    "plot(md_boosttree, i='rm')\n",
    "plot(md_boosttree, i='lstat')"
   ]
  },
  {
   "cell_type": "code",
   "execution_count": 205,
   "metadata": {},
   "outputs": [
    {
     "data": {
      "text/html": [
       "11.8443423877565"
      ],
      "text/latex": [
       "11.8443423877565"
      ],
      "text/markdown": [
       "11.8443423877565"
      ],
      "text/plain": [
       "[1] 11.84434"
      ]
     },
     "metadata": {},
     "output_type": "display_data"
    }
   ],
   "source": [
    "# Make prediction\n",
    "pred <- predict(md_boosttree, newdata=test, n.trees=5000)\n",
    "\n",
    "# MSE\n",
    "mean((pred - test$medv) ^ 2)"
   ]
  },
  {
   "cell_type": "code",
   "execution_count": 216,
   "metadata": {},
   "outputs": [
    {
     "data": {
      "text/html": [
       "11.0115329052401"
      ],
      "text/latex": [
       "11.0115329052401"
      ],
      "text/markdown": [
       "11.0115329052401"
      ],
      "text/plain": [
       "[1] 11.01153"
      ]
     },
     "metadata": {},
     "output_type": "display_data"
    }
   ],
   "source": [
    "# Fit boosting model with different shrinkage param, default alpha = 0.001\n",
    "set.seed(3)\n",
    "md_boosttree <- gbm(medv ~ ., data=train, distribution='gaussian',\n",
    "                    n.trees=5000, interaction.depth=4, shrinkage=0.2,\n",
    "                    verbose=F)\n",
    "\n",
    "# Make prediction\n",
    "pred <- predict(md_boosttree, newdata=test, n.trees=5000)\n",
    "\n",
    "# Evaluation: MSE\n",
    "mean((pred - test$medv) ^ 2)"
   ]
  }
 ],
 "metadata": {
  "kernelspec": {
   "display_name": "Python 3",
   "language": "python",
   "name": "python3"
  },
  "language_info": {
   "codemirror_mode": {
    "name": "ipython",
    "version": 3
   },
   "file_extension": ".py",
   "mimetype": "text/x-python",
   "name": "python",
   "nbconvert_exporter": "python",
   "pygments_lexer": "ipython3",
   "version": "3.6.4"
  }
 },
 "nbformat": 4,
 "nbformat_minor": 2
}
